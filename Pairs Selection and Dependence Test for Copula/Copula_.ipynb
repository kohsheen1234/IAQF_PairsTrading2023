{
 "cells": [
  {
   "cell_type": "code",
   "execution_count": 1,
   "id": "cfb263d4",
   "metadata": {
    "colab": {
     "base_uri": "https://localhost:8080/"
    },
    "executionInfo": {
     "elapsed": 18942,
     "status": "ok",
     "timestamp": 1677295637036,
     "user": {
      "displayName": "Anthony Ning (Anthony)",
      "userId": "10009839813348027102"
     },
     "user_tz": 300
    },
    "id": "cfb263d4",
    "outputId": "90727a12-4ce5-4f26-8661-20370bf1729b"
   },
   "outputs": [
    {
     "name": "stdout",
     "output_type": "stream",
     "text": [
      "Requirement already satisfied: yfinance in /Users/anthony_ning/opt/anaconda3/lib/python3.9/site-packages (0.2.12)\n",
      "Requirement already satisfied: cryptography>=3.3.2 in /Users/anthony_ning/opt/anaconda3/lib/python3.9/site-packages (from yfinance) (3.4.8)\n",
      "Requirement already satisfied: html5lib>=1.1 in /Users/anthony_ning/opt/anaconda3/lib/python3.9/site-packages (from yfinance) (1.1)\n",
      "Requirement already satisfied: requests>=2.26 in /Users/anthony_ning/opt/anaconda3/lib/python3.9/site-packages (from yfinance) (2.26.0)\n",
      "Requirement already satisfied: beautifulsoup4>=4.11.1 in /Users/anthony_ning/opt/anaconda3/lib/python3.9/site-packages (from yfinance) (4.11.2)\n",
      "Requirement already satisfied: multitasking>=0.0.7 in /Users/anthony_ning/opt/anaconda3/lib/python3.9/site-packages (from yfinance) (0.0.11)\n",
      "Requirement already satisfied: frozendict>=2.3.4 in /Users/anthony_ning/opt/anaconda3/lib/python3.9/site-packages (from yfinance) (2.3.4)\n",
      "Requirement already satisfied: lxml>=4.9.1 in /Users/anthony_ning/opt/anaconda3/lib/python3.9/site-packages (from yfinance) (4.9.2)\n",
      "Requirement already satisfied: appdirs>=1.4.4 in /Users/anthony_ning/opt/anaconda3/lib/python3.9/site-packages (from yfinance) (1.4.4)\n",
      "Requirement already satisfied: pytz>=2022.5 in /Users/anthony_ning/opt/anaconda3/lib/python3.9/site-packages (from yfinance) (2022.7.1)\n",
      "Requirement already satisfied: numpy>=1.16.5 in /Users/anthony_ning/opt/anaconda3/lib/python3.9/site-packages (from yfinance) (1.20.3)\n",
      "Requirement already satisfied: pandas>=1.3.0 in /Users/anthony_ning/opt/anaconda3/lib/python3.9/site-packages (from yfinance) (1.5.3)\n",
      "Requirement already satisfied: soupsieve>1.2 in /Users/anthony_ning/opt/anaconda3/lib/python3.9/site-packages (from beautifulsoup4>=4.11.1->yfinance) (2.2.1)\n",
      "Requirement already satisfied: cffi>=1.12 in /Users/anthony_ning/opt/anaconda3/lib/python3.9/site-packages (from cryptography>=3.3.2->yfinance) (1.14.6)\n",
      "Requirement already satisfied: pycparser in /Users/anthony_ning/opt/anaconda3/lib/python3.9/site-packages (from cffi>=1.12->cryptography>=3.3.2->yfinance) (2.20)\n",
      "Requirement already satisfied: webencodings in /Users/anthony_ning/opt/anaconda3/lib/python3.9/site-packages (from html5lib>=1.1->yfinance) (0.5.1)\n",
      "Requirement already satisfied: six>=1.9 in /Users/anthony_ning/opt/anaconda3/lib/python3.9/site-packages (from html5lib>=1.1->yfinance) (1.16.0)\n",
      "Requirement already satisfied: python-dateutil>=2.8.1 in /Users/anthony_ning/opt/anaconda3/lib/python3.9/site-packages (from pandas>=1.3.0->yfinance) (2.8.2)\n",
      "Requirement already satisfied: urllib3<1.27,>=1.21.1 in /Users/anthony_ning/opt/anaconda3/lib/python3.9/site-packages (from requests>=2.26->yfinance) (1.26.7)\n",
      "Requirement already satisfied: charset-normalizer~=2.0.0 in /Users/anthony_ning/opt/anaconda3/lib/python3.9/site-packages (from requests>=2.26->yfinance) (2.0.4)\n",
      "Requirement already satisfied: idna<4,>=2.5 in /Users/anthony_ning/opt/anaconda3/lib/python3.9/site-packages (from requests>=2.26->yfinance) (3.2)\n",
      "Requirement already satisfied: certifi>=2017.4.17 in /Users/anthony_ning/opt/anaconda3/lib/python3.9/site-packages (from requests>=2.26->yfinance) (2021.10.8)\n",
      "Note: you may need to restart the kernel to use updated packages.\n"
     ]
    }
   ],
   "source": [
    "pip install yfinance --upgrade --no-cache-dir"
   ]
  },
  {
   "cell_type": "code",
   "execution_count": 2,
   "id": "9286ca2e",
   "metadata": {
    "executionInfo": {
     "elapsed": 5582,
     "status": "ok",
     "timestamp": 1677295673042,
     "user": {
      "displayName": "Anthony Ning (Anthony)",
      "userId": "10009839813348027102"
     },
     "user_tz": 300
    },
    "id": "9286ca2e"
   },
   "outputs": [],
   "source": [
    "import pandas as pd\n",
    "import yfinance as yf\n",
    "import numpy as np\n",
    "import seaborn as sns\n",
    "import matplotlib.pyplot as plt\n",
    "import math\n",
    "import sys\n",
    "import scipy.stats as stats\n",
    "from statsmodels.distributions.empirical_distribution import ECDF\n",
    "from scipy.optimize import minimize"
   ]
  },
  {
   "cell_type": "code",
   "execution_count": 3,
   "id": "ae291e9d",
   "metadata": {
    "executionInfo": {
     "elapsed": 133,
     "status": "ok",
     "timestamp": 1677295677482,
     "user": {
      "displayName": "Anthony Ning (Anthony)",
      "userId": "10009839813348027102"
     },
     "user_tz": 300
    },
    "id": "ae291e9d"
   },
   "outputs": [],
   "source": [
    "def loaddata(tickerlist, period='5y'):\n",
    "    data = yf.download(  # or pdr.get_data_yahoo(...\n",
    "            # tickers list or string as well\n",
    "            tickers = tickerlist,\n",
    "\n",
    "            # use \"period\" instead of start/end\n",
    "            # valid periods: 1d,5d,1mo,3mo,6mo,1y,2y,5y,10y,ytd,max\n",
    "            # (optional, default is '1mo')\n",
    "            period = period,\n",
    "\n",
    "            # fetch data by interval (including intraday if period < 60 days)\n",
    "            # valid intervals: 1m,2m,5m,15m,30m,60m,90m,1h,1d,5d,1wk,1mo,3mo\n",
    "            # (optional, default is '1d')\n",
    "            interval = \"1d\",\n",
    "\n",
    "            # Whether to ignore timezone when aligning ticker data from \n",
    "            # different timezones. Default is False.\n",
    "            ignore_tz = False, # !!\n",
    "\n",
    "            # group by ticker (to access via data['SPY'])\n",
    "            # (optional, default is 'column')\n",
    "            group_by = 'ticker',\n",
    "\n",
    "            # adjust all OHLC automatically\n",
    "            # (optional, default is False)\n",
    "            auto_adjust = True,  \n",
    "\n",
    "            # attempt repair of missing data or currency mixups e.g. $/cents\n",
    "            repair = False,\n",
    "\n",
    "            # download pre/post regular market hours data\n",
    "            # (optional, default is False)\n",
    "            prepost = True,\n",
    "\n",
    "            # use threads for mass downloading? (True/False/Integer)\n",
    "            # (optional, default is True)\n",
    "            threads = True,\n",
    "\n",
    "            # proxy URL scheme use use when downloading?\n",
    "            # (optional, default is None)\n",
    "            proxy = None\n",
    "        )\n",
    "    collist = []\n",
    "    \n",
    "    for i in data.columns:\n",
    "        if i[1] == 'Close': #there were no adj close for most tickers\n",
    "            collist.append(i)\n",
    "    data = data[collist]\n",
    "    \n",
    "    tmp = []\n",
    "    for i in data.columns:\n",
    "        tmp.append(i[0])\n",
    "    data.columns = tmp\n",
    "    \n",
    "    return data"
   ]
  },
  {
   "cell_type": "code",
   "execution_count": 4,
   "id": "bcbda48d",
   "metadata": {
    "executionInfo": {
     "elapsed": 175,
     "status": "ok",
     "timestamp": 1677295678805,
     "user": {
      "displayName": "Anthony Ning (Anthony)",
      "userId": "10009839813348027102"
     },
     "user_tz": 300
    },
    "id": "bcbda48d"
   },
   "outputs": [],
   "source": [
    "def CleanData(data): #for cleaning data of 1 pair\n",
    "    # 1) drop weekend\n",
    "    for i in range(data.shape[0]):\n",
    "        if pd.isna(data.iloc[i,0]) and pd.isna(data.iloc[i,1]):\n",
    "            data = data.drop(data.index[i],axis=0)\n",
    "    # 2) cal logreturn\n",
    "        cleaned_data = 100*np.log(data/data.shift(1))\n",
    "    # 3) dropna\n",
    "        cleaned_data = cleaned_data.dropna(axis=0)\n",
    "    return cleaned_data"
   ]
  },
  {
   "cell_type": "code",
   "execution_count": 5,
   "id": "f125493a",
   "metadata": {
    "colab": {
     "base_uri": "https://localhost:8080/"
    },
    "executionInfo": {
     "elapsed": 420,
     "status": "ok",
     "timestamp": 1677295680522,
     "user": {
      "displayName": "Anthony Ning (Anthony)",
      "userId": "10009839813348027102"
     },
     "user_tz": 300
    },
    "id": "f125493a",
    "outputId": "27674f1e-3189-4f2f-a494-0abff8a2e008"
   },
   "outputs": [
    {
     "name": "stdout",
     "output_type": "stream",
     "text": [
      "[*********************100%***********************]  2 of 2 completed\n",
      "                                  ^RUA        ^GSPC\n",
      "Date                                               \n",
      "2018-02-28 00:00:00-05:00  1600.150024  2713.830078\n",
      "2018-03-01 00:00:00-05:00  1581.170044  2677.669922\n",
      "2018-03-02 00:00:00-05:00  1591.380005  2691.250000\n",
      "2018-03-05 00:00:00-05:00  1608.609985  2720.939941\n",
      "2018-03-06 00:00:00-05:00  1614.569946  2728.120117\n",
      "...                                ...          ...\n",
      "2023-02-22 00:00:00-05:00  2320.189941  3991.050049\n",
      "2023-02-23 00:00:00-05:00  2332.050049  4012.320068\n",
      "2023-02-24 00:00:00-05:00  2307.530029  3970.040039\n",
      "2023-02-27 00:00:00-05:00  2314.389893  3982.239990\n",
      "2023-02-28 00:00:00-05:00  2314.426025  3984.340088\n",
      "\n",
      "[1259 rows x 2 columns]\n"
     ]
    }
   ],
   "source": [
    "pair = '^GSPC ^RUA'\n",
    "data = loaddata(pair)\n",
    "print(data)"
   ]
  },
  {
   "cell_type": "code",
   "execution_count": 6,
   "id": "8ca27f07",
   "metadata": {
    "colab": {
     "base_uri": "https://localhost:8080/",
     "height": 455
    },
    "executionInfo": {
     "elapsed": 2418,
     "status": "ok",
     "timestamp": 1677295684016,
     "user": {
      "displayName": "Anthony Ning (Anthony)",
      "userId": "10009839813348027102"
     },
     "user_tz": 300
    },
    "id": "8ca27f07",
    "outputId": "32e052cc-a4c9-4114-c90a-321d8d3e4e84"
   },
   "outputs": [
    {
     "data": {
      "text/html": [
       "<div>\n",
       "<style scoped>\n",
       "    .dataframe tbody tr th:only-of-type {\n",
       "        vertical-align: middle;\n",
       "    }\n",
       "\n",
       "    .dataframe tbody tr th {\n",
       "        vertical-align: top;\n",
       "    }\n",
       "\n",
       "    .dataframe thead th {\n",
       "        text-align: right;\n",
       "    }\n",
       "</style>\n",
       "<table border=\"1\" class=\"dataframe\">\n",
       "  <thead>\n",
       "    <tr style=\"text-align: right;\">\n",
       "      <th></th>\n",
       "      <th>^RUA</th>\n",
       "      <th>^GSPC</th>\n",
       "    </tr>\n",
       "    <tr>\n",
       "      <th>Date</th>\n",
       "      <th></th>\n",
       "      <th></th>\n",
       "    </tr>\n",
       "  </thead>\n",
       "  <tbody>\n",
       "    <tr>\n",
       "      <th>2018-03-01 00:00:00-05:00</th>\n",
       "      <td>-1.193228</td>\n",
       "      <td>-1.341397</td>\n",
       "    </tr>\n",
       "    <tr>\n",
       "      <th>2018-03-02 00:00:00-05:00</th>\n",
       "      <td>0.643646</td>\n",
       "      <td>0.505879</td>\n",
       "    </tr>\n",
       "    <tr>\n",
       "      <th>2018-03-05 00:00:00-05:00</th>\n",
       "      <td>1.076888</td>\n",
       "      <td>1.097162</td>\n",
       "    </tr>\n",
       "    <tr>\n",
       "      <th>2018-03-06 00:00:00-05:00</th>\n",
       "      <td>0.369819</td>\n",
       "      <td>0.263538</td>\n",
       "    </tr>\n",
       "    <tr>\n",
       "      <th>2018-03-07 00:00:00-05:00</th>\n",
       "      <td>0.047061</td>\n",
       "      <td>-0.048399</td>\n",
       "    </tr>\n",
       "    <tr>\n",
       "      <th>...</th>\n",
       "      <td>...</td>\n",
       "      <td>...</td>\n",
       "    </tr>\n",
       "    <tr>\n",
       "      <th>2023-02-22 00:00:00-05:00</th>\n",
       "      <td>-0.061190</td>\n",
       "      <td>-0.157480</td>\n",
       "    </tr>\n",
       "    <tr>\n",
       "      <th>2023-02-23 00:00:00-05:00</th>\n",
       "      <td>0.509868</td>\n",
       "      <td>0.531528</td>\n",
       "    </tr>\n",
       "    <tr>\n",
       "      <th>2023-02-24 00:00:00-05:00</th>\n",
       "      <td>-1.057003</td>\n",
       "      <td>-1.059346</td>\n",
       "    </tr>\n",
       "    <tr>\n",
       "      <th>2023-02-27 00:00:00-05:00</th>\n",
       "      <td>0.296841</td>\n",
       "      <td>0.306829</td>\n",
       "    </tr>\n",
       "    <tr>\n",
       "      <th>2023-02-28 00:00:00-05:00</th>\n",
       "      <td>0.001561</td>\n",
       "      <td>0.052723</td>\n",
       "    </tr>\n",
       "  </tbody>\n",
       "</table>\n",
       "<p>1200 rows × 2 columns</p>\n",
       "</div>"
      ],
      "text/plain": [
       "                               ^RUA     ^GSPC\n",
       "Date                                         \n",
       "2018-03-01 00:00:00-05:00 -1.193228 -1.341397\n",
       "2018-03-02 00:00:00-05:00  0.643646  0.505879\n",
       "2018-03-05 00:00:00-05:00  1.076888  1.097162\n",
       "2018-03-06 00:00:00-05:00  0.369819  0.263538\n",
       "2018-03-07 00:00:00-05:00  0.047061 -0.048399\n",
       "...                             ...       ...\n",
       "2023-02-22 00:00:00-05:00 -0.061190 -0.157480\n",
       "2023-02-23 00:00:00-05:00  0.509868  0.531528\n",
       "2023-02-24 00:00:00-05:00 -1.057003 -1.059346\n",
       "2023-02-27 00:00:00-05:00  0.296841  0.306829\n",
       "2023-02-28 00:00:00-05:00  0.001561  0.052723\n",
       "\n",
       "[1200 rows x 2 columns]"
      ]
     },
     "execution_count": 6,
     "metadata": {},
     "output_type": "execute_result"
    }
   ],
   "source": [
    "clean_data = CleanData(data)\n",
    "clean_data"
   ]
  },
  {
   "cell_type": "code",
   "execution_count": 7,
   "id": "11f22089",
   "metadata": {
    "executionInfo": {
     "elapsed": 175,
     "status": "ok",
     "timestamp": 1677297253298,
     "user": {
      "displayName": "Anthony Ning (Anthony)",
      "userId": "10009839813348027102"
     },
     "user_tz": 300
    },
    "id": "11f22089"
   },
   "outputs": [],
   "source": [
    "sp = np.array(clean_data['^GSPC'])\n",
    "rus = np.array(clean_data['^RUA'])"
   ]
  },
  {
   "cell_type": "code",
   "execution_count": 8,
   "id": "bd95a5c6",
   "metadata": {
    "colab": {
     "base_uri": "https://localhost:8080/",
     "height": 460
    },
    "executionInfo": {
     "elapsed": 1377,
     "status": "ok",
     "timestamp": 1677297255506,
     "user": {
      "displayName": "Anthony Ning (Anthony)",
      "userId": "10009839813348027102"
     },
     "user_tz": 300
    },
    "id": "bd95a5c6",
    "outputId": "f5bd3adb-b370-490e-ded6-eb7c191aeffa"
   },
   "outputs": [
    {
     "data": {
      "image/png": "[encoded data removed]",
      "text/plain": [
       "<Figure size 432x432 with 3 Axes>"
      ]
     },
     "metadata": {
      "needs_background": "light"
     },
     "output_type": "display_data"
    }
   ],
   "source": [
    "h = sns.jointplot(x=sp, y=rus, kind=\"scatter\")\n",
    "_ = h.set_axis_labels(\"sp\", \"rus\", fontsize=16)"
   ]
  },
  {
   "cell_type": "code",
   "execution_count": 9,
   "id": "804e3f59",
   "metadata": {
    "colab": {
     "base_uri": "https://localhost:8080/",
     "height": 460
    },
    "executionInfo": {
     "elapsed": 2156,
     "status": "ok",
     "timestamp": 1677297271760,
     "user": {
      "displayName": "Anthony Ning (Anthony)",
      "userId": "10009839813348027102"
     },
     "user_tz": 300
    },
    "id": "804e3f59",
    "outputId": "25144d6d-56ed-4e0c-e5f0-81060430495c"
   },
   "outputs": [
    {
     "data": {
      "image/png": "[encoded data removed]",
      "text/plain": [
       "<Figure size 432x432 with 3 Axes>"
      ]
     },
     "metadata": {
      "needs_background": "light"
     },
     "output_type": "display_data"
    }
   ],
   "source": [
    "h = sns.jointplot(x=sp, y=rus, kind=\"scatter\", xlim=[-5, 5], ylim=[-5, 5])\n",
    "_ = h.set_axis_labels(\"sp\", \"rus\", fontsize=16)"
   ]
  },
  {
   "cell_type": "code",
   "execution_count": 10,
   "id": "a8ff812b",
   "metadata": {
    "executionInfo": {
     "elapsed": 138,
     "status": "ok",
     "timestamp": 1677297298071,
     "user": {
      "displayName": "Anthony Ning (Anthony)",
      "userId": "10009839813348027102"
     },
     "user_tz": 300
    },
    "id": "a8ff812b"
   },
   "outputs": [],
   "source": [
    "data = np.vstack((sp, rus))\n",
    "\n",
    "# Transform the dataset to uniform margins\n",
    "ecdf1 = ECDF(data[0])\n",
    "ecdf2 = ECDF(data[1])\n",
    "n = len(data[0])\n",
    "pseudo_sample = np.array(\n",
    "    [[n * l / (n + 1) for l in ecdf1(data[0])], [n * l / (n + 1) for l in ecdf2(data[1])]])"
   ]
  },
  {
   "cell_type": "code",
   "execution_count": 11,
   "id": "2f4cc932",
   "metadata": {
    "colab": {
     "base_uri": "https://localhost:8080/",
     "height": 460
    },
    "executionInfo": {
     "elapsed": 1068,
     "status": "ok",
     "timestamp": 1677297300044,
     "user": {
      "displayName": "Anthony Ning (Anthony)",
      "userId": "10009839813348027102"
     },
     "user_tz": 300
    },
    "id": "2f4cc932",
    "outputId": "8683e27f-e9d0-461f-b97a-8dde538c0449"
   },
   "outputs": [
    {
     "data": {
      "image/png": "[encoded data removed]",
      "text/plain": [
       "<Figure size 432x432 with 3 Axes>"
      ]
     },
     "metadata": {
      "needs_background": "light"
     },
     "output_type": "display_data"
    }
   ],
   "source": [
    "h = sns.jointplot(x=pseudo_sample[0], y=pseudo_sample[1], kind=\"scatter\")\n",
    "_ = h.set_axis_labels(\"sp\", \"rus\", fontsize=16)"
   ]
  },
  {
   "cell_type": "markdown",
   "id": "ebbff428",
   "metadata": {
    "id": "ebbff428"
   },
   "source": [
    "### Graphical Observation"
   ]
  },
  {
   "cell_type": "markdown",
   "id": "d0ac3273",
   "metadata": {
    "id": "d0ac3273"
   },
   "source": [
    "From the graphical observation, Frank, Gaussian and Student-t copulas can be considered. "
   ]
  },
  {
   "cell_type": "markdown",
   "id": "2b6ce93c",
   "metadata": {
    "id": "2b6ce93c"
   },
   "source": [
    "### References"
   ]
  },
  {
   "cell_type": "markdown",
   "id": "530b6a7f",
   "metadata": {
    "id": "530b6a7f"
   },
   "source": [
    "1. https://hudsonthames.org/copula-for-pairs-trading-introduction/\n",
    "2. https://bochang.me/blog/posts/copula/\n",
    "3. https://datasciencegenie.com/different-correlation-structures-in-copulas/"
   ]
  },
  {
   "cell_type": "markdown",
   "id": "2f7066ab",
   "metadata": {
    "id": "2f7066ab"
   },
   "source": [
    "### Kendall's Tau "
   ]
  },
  {
   "cell_type": "code",
   "execution_count": 12,
   "id": "f4b1900a",
   "metadata": {
    "colab": {
     "base_uri": "https://localhost:8080/"
    },
    "executionInfo": {
     "elapsed": 165,
     "status": "ok",
     "timestamp": 1677297583133,
     "user": {
      "displayName": "Anthony Ning (Anthony)",
      "userId": "10009839813348027102"
     },
     "user_tz": 300
    },
    "id": "f4b1900a",
    "outputId": "a22156ed-9e1c-40d5-c8cc-0f6c605b5b5e"
   },
   "outputs": [
    {
     "name": "stdout",
     "output_type": "stream",
     "text": [
      "0.9406255212677231\n",
      "0.0\n"
     ]
    }
   ],
   "source": [
    "import scipy.stats as stats\n",
    "tau, p_value = stats.kendalltau(pseudo_sample[0], pseudo_sample[1])\n",
    "print(tau)\n",
    "print(p_value)"
   ]
  },
  {
   "cell_type": "markdown",
   "id": "b68207a4",
   "metadata": {
    "id": "b68207a4"
   },
   "source": [
    "### Maximum Likelihood"
   ]
  },
  {
   "cell_type": "code",
   "execution_count": 13,
   "id": "cf1f0e36",
   "metadata": {
    "executionInfo": {
     "elapsed": 163,
     "status": "ok",
     "timestamp": 1677297586808,
     "user": {
      "displayName": "Anthony Ning (Anthony)",
      "userId": "10009839813348027102"
     },
     "user_tz": 300
    },
    "id": "cf1f0e36"
   },
   "outputs": [],
   "source": [
    "from statsmodels.distributions.copula.api import FrankCopula, GaussianCopula, StudentTCopula, ClaytonCopula, GumbelCopula\n",
    "import scipy.integrate\n",
    "\n",
    "from scipy.special  import comb\n",
    "from scipy.special import erfinv\n",
    "from scipy.special import gamma\n",
    "from scipy.stats    import norm, t\n",
    "from scipy.optimize import root\n",
    "from scipy.optimize import newton\n",
    "from scipy.optimize import minimize\n",
    "\n",
    "import numpy.random as npr\n",
    "import scipy.stats as scs\n",
    "\n",
    "from distutils.log import error\n",
    "from statsmodels.distributions.empirical_distribution import ECDF\n",
    "\n",
    "import warnings"
   ]
  },
  {
   "cell_type": "code",
   "execution_count": 14,
   "id": "4623d35c",
   "metadata": {},
   "outputs": [],
   "source": [
    "def gaussian_pdf(u, v, rho):\n",
    "    \n",
    "    a = np.sqrt(2) * erfinv(2 * u - 1)\n",
    "    b = np.sqrt(2) * erfinv(2 * v - 1)\n",
    "    det_rho = 1 - rho**2\n",
    "    \n",
    "    return det_rho**-0.5 * np.exp(-((a**2 + b**2) * rho**2 -2 * a * b * rho) / (2 * det_rho))\n",
    "\n",
    "def studentT_pdf(u, v, param):\n",
    "\n",
    "    rho = param[0]\n",
    "    nu = param[1]\n",
    "\n",
    "    term1 = gamma((nu + 2) / 2) * gamma(nu / 2) \n",
    "    term2 = gamma((nu + 1) / 2) ** 2\n",
    "\n",
    "    u_ = t.ppf(u, df=nu)\n",
    "    v_ = t.ppf(v, df=nu)\n",
    "\n",
    "    det_rho = 1-rho**2\n",
    "    multid = (-2 * u_ * v_ * rho + (u_ ** 2) + (v_ ** 2) ) / det_rho\n",
    "    term3 = (1 + multid / nu) ** ((nu + 2) / 2)\n",
    "\n",
    "    prod1 = (1 + (u_ ** 2) / nu) ** ((nu + 1) / 2) \n",
    "    prod2 = (1 + (v_ ** 2) / nu) ** ((nu + 1) / 2)\n",
    "    prod = prod1 * prod2\n",
    "\n",
    "    return (1/np.sqrt(det_rho)) * (term1 * prod) / (term2 * term3)"
   ]
  },
  {
   "cell_type": "code",
   "execution_count": 15,
   "id": "8c8666ef",
   "metadata": {},
   "outputs": [],
   "source": [
    "def cmle(copula, data, opti_method='SLSQP'):\n",
    "    \n",
    "    # Transform the dataset to uniform margins\n",
    "    ecdf1 = ECDF(data[0])\n",
    "    ecdf2 = ECDF(data[1])\n",
    "    \n",
    "    n = len(data[0])\n",
    "    \n",
    "    pseudo_sample = np.array(\n",
    "        [[n * l / (n + 1) for l in ecdf1(data[0])], [n * l / (n + 1) for l in ecdf2(data[1])]])\n",
    "    \n",
    "    # calculate the log likelihood\n",
    "    def log_likelihood(parameter):\n",
    "        if isinstance(copula, GaussianCopula):\n",
    "            logl = -np.sum(np.log(gaussian_pdf(pseudo_sample[0], pseudo_sample[1], parameter)))\n",
    "        elif isinstance(copula, StudentTCopula):\n",
    "            logl = -np.sum(np.log(studentT_pdf(pseudo_sample[0], pseudo_sample[1], parameter)))\n",
    "        else:\n",
    "            logl = -np.sum(np.log(copula.pdf(pseudo_sample.T, parameter)))\n",
    "        return logl\n",
    "    \n",
    "    # fitting\n",
    "\n",
    "    if isinstance(copula, ClaytonCopula):\n",
    "        initial_param = 0.5\n",
    "        bounds_param = [(1e-6, None)]\n",
    "    elif isinstance(copula, FrankCopula):\n",
    "        initial_param = 2\n",
    "        bounds_param = [(None, None)]\n",
    "    elif isinstance(copula, GumbelCopula):\n",
    "        initial_param = 1.5\n",
    "        bounds_param = [(1, None)]\n",
    "    elif isinstance(copula, GaussianCopula):\n",
    "        initial_param = 0\n",
    "        bounds_param = [(-1, 1)]\n",
    "    elif isinstance(copula, StudentTCopula):\n",
    "        initial_param = [0, 1]\n",
    "        bounds_param = [(-1+1e-6, 1-1e-6), (1e-6, None)]\n",
    "        opti_method = 'Nelder-Mead'\n",
    "    else:\n",
    "        print(\"only available with Clayton, Frank, Gumbel, Gaussian and StudentT\")\n",
    "    \n",
    "    results = minimize(log_likelihood, initial_param, method=opti_method, bounds=bounds_param, options={})\n",
    "    \n",
    "    if results.success == True:\n",
    "            return (results.x, -results.fun)      # return the fitted theta and the loglikelihood\n",
    "    else:\n",
    "        print(\"fitting failed\")\n",
    "        return None"
   ]
  },
  {
   "cell_type": "code",
   "execution_count": 17,
   "id": "49c0042f",
   "metadata": {},
   "outputs": [],
   "source": [
    "def copula_selection(copulas_lst, data):\n",
    "    \n",
    "    results = {}\n",
    "    \n",
    "    for key in copulas_lst:\n",
    "        \n",
    "        if key == 'Gaussian':\n",
    "            ecdf1 = ECDF(data[0])\n",
    "            ecdf2 = ECDF(data[1])\n",
    "            n = len(data[0])\n",
    "            pseudo_sample = np.array(\n",
    "                [[n * l / (n + 1) for l in ecdf1(data[0])], [n * l / (n + 1) for l in ecdf2(data[1])]])\n",
    "            cor = np.corrcoef(pseudo_sample[0], pseudo_sample[1])\n",
    "            copula = GaussianCopula(corr=cor)\n",
    "            cor, like = cmle(copula, data)\n",
    "            results[key] = (cor, like)\n",
    "            \n",
    "        elif key == 'StudentT':\n",
    "            ecdf1 = ECDF(data[0])\n",
    "            ecdf2 = ECDF(data[1])\n",
    "            n = len(data[0])\n",
    "            pseudo_sample = np.array(\n",
    "                [[n * l / (n + 1) for l in ecdf1(data[0])], [n * l / (n + 1) for l in ecdf2(data[1])]])\n",
    "            cor = np.corrcoef(pseudo_sample[0], pseudo_sample[1])\n",
    "            copula = StudentTCopula(corr=cor, df=data.shape[1]-1)\n",
    "            param, like = cmle(copula, data)\n",
    "            results[key] = param, like\n",
    "            \n",
    "        elif key == 'Frank':\n",
    "            copula = FrankCopula()\n",
    "            the, like = cmle(copula, data)\n",
    "            results[key] = the[0], like\n",
    "        \n",
    "        elif key == 'Clayton':\n",
    "            copula = ClaytonCopula()\n",
    "            the, like = cmle(copula, data)\n",
    "            results[key] = the[0], like\n",
    "            \n",
    "        elif key == 'Gumbel':\n",
    "            copula = GumbelCopula()\n",
    "            the, like = cmle(copula, data)\n",
    "            results[key] = the[0], like\n",
    "            \n",
    "        else:\n",
    "            raise NotImplementedError\n",
    "            \n",
    "    results = results.items()\n",
    "    final = dict(sorted(results, key=lambda ele:ele[1][1]))\n",
    "    \n",
    "    return final"
   ]
  },
  {
   "cell_type": "code",
   "execution_count": 18,
   "id": "3e674bb1",
   "metadata": {},
   "outputs": [
    {
     "name": "stderr",
     "output_type": "stream",
     "text": [
      "/var/folders/60/75vh_thj2m57nynzg5tgw0300000gn/T/ipykernel_66703/1604078958.py:7: RuntimeWarning: divide by zero encountered in power\n",
      "  return det_rho**-0.5 * np.exp(-((a**2 + b**2) * rho**2 -2 * a * b * rho) / (2 * det_rho))\n",
      "/var/folders/60/75vh_thj2m57nynzg5tgw0300000gn/T/ipykernel_66703/1604078958.py:7: RuntimeWarning: divide by zero encountered in true_divide\n",
      "  return det_rho**-0.5 * np.exp(-((a**2 + b**2) * rho**2 -2 * a * b * rho) / (2 * det_rho))\n",
      "/var/folders/60/75vh_thj2m57nynzg5tgw0300000gn/T/ipykernel_66703/1604078958.py:7: RuntimeWarning: invalid value encountered in true_divide\n",
      "  return det_rho**-0.5 * np.exp(-((a**2 + b**2) * rho**2 -2 * a * b * rho) / (2 * det_rho))\n",
      "/var/folders/60/75vh_thj2m57nynzg5tgw0300000gn/T/ipykernel_66703/1604078958.py:7: RuntimeWarning: invalid value encountered in multiply\n",
      "  return det_rho**-0.5 * np.exp(-((a**2 + b**2) * rho**2 -2 * a * b * rho) / (2 * det_rho))\n",
      "/var/folders/60/75vh_thj2m57nynzg5tgw0300000gn/T/ipykernel_66703/2713152495.py:15: RuntimeWarning: divide by zero encountered in log\n",
      "  logl = -np.sum(np.log(gaussian_pdf(pseudo_sample[0], pseudo_sample[1], parameter)))\n",
      "/Users/anthony_ning/opt/anaconda3/lib/python3.9/site-packages/statsmodels/distributions/copula/archimedean.py:275: RuntimeWarning: invalid value encountered in true_divide\n",
      "  return num / den\n",
      "/var/folders/60/75vh_thj2m57nynzg5tgw0300000gn/T/ipykernel_66703/2713152495.py:19: RuntimeWarning: divide by zero encountered in log\n",
      "  logl = -np.sum(np.log(copula.pdf(pseudo_sample.T, parameter)))\n",
      "/Users/anthony_ning/opt/anaconda3/lib/python3.9/site-packages/statsmodels/distributions/copula/archimedean.py:192: RuntimeWarning: overflow encountered in power\n",
      "  a = (th + 1) * np.prod(u, axis=-1) ** -(th + 1)\n",
      "/Users/anthony_ning/opt/anaconda3/lib/python3.9/site-packages/statsmodels/distributions/copula/archimedean.py:192: RuntimeWarning: overflow encountered in multiply\n",
      "  a = (th + 1) * np.prod(u, axis=-1) ** -(th + 1)\n",
      "/Users/anthony_ning/opt/anaconda3/lib/python3.9/site-packages/statsmodels/distributions/copula/archimedean.py:193: RuntimeWarning: overflow encountered in power\n",
      "  b = np.sum(u ** -th, axis=-1) - 1\n",
      "/Users/anthony_ning/opt/anaconda3/lib/python3.9/site-packages/statsmodels/distributions/copula/archimedean.py:195: RuntimeWarning: invalid value encountered in multiply\n",
      "  return a * b ** c\n",
      "/Users/anthony_ning/opt/anaconda3/lib/python3.9/site-packages/statsmodels/distributions/copula/archimedean.py:396: RuntimeWarning: overflow encountered in power\n",
      "  xy_theta = xy ** th\n",
      "/Users/anthony_ning/opt/anaconda3/lib/python3.9/site-packages/statsmodels/distributions/copula/archimedean.py:403: RuntimeWarning: divide by zero encountered in power\n",
      "  c = sum_xy_theta ** (1.0 / th - 2)\n",
      "/Users/anthony_ning/opt/anaconda3/lib/python3.9/site-packages/statsmodels/distributions/copula/archimedean.py:403: RuntimeWarning: overflow encountered in power\n",
      "  c = sum_xy_theta ** (1.0 / th - 2)\n",
      "/Users/anthony_ning/opt/anaconda3/lib/python3.9/site-packages/statsmodels/distributions/copula/archimedean.py:404: RuntimeWarning: overflow encountered in power\n",
      "  d = np.prod(xy, axis=-1) ** (th - 1.0)\n",
      "/Users/anthony_ning/opt/anaconda3/lib/python3.9/site-packages/statsmodels/distributions/copula/archimedean.py:407: RuntimeWarning: invalid value encountered in multiply\n",
      "  return a * b * c * d * e\n",
      "/Users/anthony_ning/opt/anaconda3/lib/python3.9/site-packages/statsmodels/distributions/copula/archimedean.py:407: RuntimeWarning: overflow encountered in multiply\n",
      "  return a * b * c * d * e\n"
     ]
    },
    {
     "data": {
      "text/plain": [
       "{'Frank': (18.730568454538492, 1912.4363225163079),\n",
       " 'Clayton': (21.97530772615752, 2591.452573834671),\n",
       " 'Gumbel': (16.575628346596403, 2839.1780769509805),\n",
       " 'Gaussian': (array([0.99578335]), 2860.4758369560177),\n",
       " 'StudentT': (array([9.99999e-01, 1.00000e-06]), 23330.070832964637)}"
      ]
     },
     "execution_count": 18,
     "metadata": {},
     "output_type": "execute_result"
    }
   ],
   "source": [
    "copulas_lst = ['Gaussian', 'StudentT', 'Frank', 'Clayton', 'Gumbel']\n",
    "final = copula_selection(copulas_lst, data)\n",
    "final"
   ]
  },
  {
   "cell_type": "markdown",
   "id": "fba84008",
   "metadata": {
    "id": "fba84008"
   },
   "source": [
    "## Goodness of Fit"
   ]
  },
  {
   "cell_type": "markdown",
   "id": "61312b0e",
   "metadata": {
    "id": "61312b0e"
   },
   "source": [
    "#### Empirical Copula "
   ]
  },
  {
   "cell_type": "code",
   "execution_count": 19,
   "id": "d238b3d9",
   "metadata": {},
   "outputs": [],
   "source": [
    "def build_ecopula(pseudo_sample, interval=5):\n",
    "    \n",
    "    # selecting sample from every 5 samples, default interval is 5\n",
    "    axis1 = np.sort(pseudo_sample[0, ::interval])\n",
    "    axis2 = np.sort(pseudo_sample[1, ::interval])\n",
    "    \n",
    "    lists = [[] for _ in range(len(axis1))]\n",
    "\n",
    "    for i in range(len(axis1)):\n",
    "        for j in range(len(axis2)):\n",
    "            point = (axis1[i], axis2[j])\n",
    "            lists[i].append(point)\n",
    "    lists = np.array(lists)\n",
    "    \n",
    "    samples = pseudo_sample[:, ::interval]\n",
    "    \n",
    "    c_lists = [[] for _ in range(len(lists))]\n",
    "\n",
    "    for i in range(len(lists)):\n",
    "        for j in range(len(lists)):\n",
    "            count = 0\n",
    "            point = lists[i][j]\n",
    "            for sample in samples.T:\n",
    "                if sample[0] <= point[0] and sample[1] <= point[1]:\n",
    "                    count += 1\n",
    "            c_lists[i].append(count/len(lists))\n",
    "\n",
    "    e_copula = np.array(c_lists)\n",
    "    \n",
    "    return axis1, axis2, lists, e_copula"
   ]
  },
  {
   "cell_type": "code",
   "execution_count": 20,
   "id": "10041183",
   "metadata": {},
   "outputs": [],
   "source": [
    "axis1, axis2, lists, e_copula = build_ecopula(pseudo_sample)"
   ]
  },
  {
   "cell_type": "markdown",
   "id": "a4ad1ad6",
   "metadata": {},
   "source": [
    "### GoF"
   ]
  },
  {
   "cell_type": "code",
   "execution_count": 21,
   "id": "bf7f1cf2",
   "metadata": {},
   "outputs": [],
   "source": [
    "def GoF(copula, e_copula, lists, axis1, axis2, final):\n",
    "    \n",
    "    results = []\n",
    "    dis = 0\n",
    "    \n",
    "    if copula == 'Frank':\n",
    "        copula = FrankCopula(theta=float(final['Frank'][0]))\n",
    "                \n",
    "    elif copula == 'Gaussian':\n",
    "        cor = np.corrcoef(axis1, axis2)\n",
    "        copula = GaussianCopula(corr=cor)\n",
    "                \n",
    "    elif copula == 'Clayton':\n",
    "        copula = ClaytonCopula(theta=float(final['Clayton'][0]))\n",
    "                \n",
    "    elif copula == 'Gumbel':\n",
    "        copula = GumbelCopula(theta=float(final['Gumbel'][0]))\n",
    "        \n",
    "    else:\n",
    "        raise NotImplementedError\n",
    "        \n",
    "    for i in range(len(lists)):\n",
    "        results.append(copula.cdf(lists[i]))\n",
    "        \n",
    "    for i in range(len(e_copula)):\n",
    "        for j in range(len(e_copula[i])):\n",
    "            e = e_copula[i][j]\n",
    "            r = results[i][j]\n",
    "            dis += (e-r)**2\n",
    "                \n",
    "    return dis"
   ]
  },
  {
   "cell_type": "code",
   "execution_count": 22,
   "id": "29876630",
   "metadata": {},
   "outputs": [
    {
     "name": "stdout",
     "output_type": "stream",
     "text": [
      "21.382790591589036\n",
      "13.121663019054562\n",
      "14.467722761639472\n",
      "13.463330061115359\n"
     ]
    }
   ],
   "source": [
    "print(GoF('Frank', e_copula, lists, axis1, axis2, final))\n",
    "print(GoF('Gaussian', e_copula, lists, axis1, axis2, final))\n",
    "print(GoF('Clayton', e_copula, lists, axis1, axis2, final))\n",
    "print(GoF('Gumbel', e_copula, lists, axis1, axis2, final))"
   ]
  }
 ],
 "metadata": {
  "colab": {
   "provenance": []
  },
  "kernelspec": {
   "display_name": "Python 3 (ipykernel)",
   "language": "python",
   "name": "python3"
  },
  "language_info": {
   "codemirror_mode": {
    "name": "ipython",
    "version": 3
   },
   "file_extension": ".py",
   "mimetype": "text/x-python",
   "name": "python",
   "nbconvert_exporter": "python",
   "pygments_lexer": "ipython3",
   "version": "3.9.7"
  }
 },
 "nbformat": 4,
 "nbformat_minor": 5
}
